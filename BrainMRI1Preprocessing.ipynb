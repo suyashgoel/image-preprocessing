{
  "cells": [
    {
      "cell_type": "code",
      "execution_count": null,
      "metadata": {
        "id": "2Ddr0nkSJPVH"
      },
      "outputs": [],
      "source": [
        "# Installs Kaggle API; allows us to easily use Kaggle datasets\n",
        "# Want to go to Kaggle > Settings > API > Create New Token (and then download kaggle.json file)\n",
        "!pip install kaggle\n",
        "\n",
        "# Allows us to access local files\n",
        "from google.colab import files\n",
        "\n",
        "# Prompts you to upload files; want to upload kaggle.json\n",
        "uploaded = files.upload()\n",
        "\n",
        "# Creates a new directory and copies kaggle.json file to directory; specify read/write permissions only to owner\n",
        "!mkdir ~/.kaggle\n",
        "!cp kaggle.json ~/.kaggle/\n",
        "!chmod 600 ~/.kaggle/kaggle.json\n",
        "\n",
        "# Lists Kaggle datasets\n",
        "!kaggle datasets list\n",
        "\n",
        "# Downloads specified dataset; can obtain this command by copying the API command of a dataset. This can be found by clicking the three dots on a given dataset near the download button.\n",
        "!kaggle datasets download -d navoneel/brain-mri-images-for-brain-tumor-detection"
      ]
    },
    {
      "cell_type": "code",
      "execution_count": 2,
      "metadata": {
        "id": "e_Ghd9DWJ5kW"
      },
      "outputs": [],
      "source": [
        "# Allows us to work with zip files since Kaggle will give our dataset in .zip format\n",
        "import zipfile\n",
        "\n",
        "# Specifies location of zip file\n",
        "data_zip = \"/content/brain-mri-images-for-brain-tumor-detection.zip\"\n",
        "\n",
        "# Specifies location to put the unzipped contents in\n",
        "data_dir = \"./data\"\n",
        "\n",
        "# Reading zip file and extracting its contents into data_dir ('./data')\n",
        "data_zip_ref = zipfile.ZipFile(data_zip,\"r\")\n",
        "data_zip_ref.extractall(data_dir)"
      ]
    },
    {
      "cell_type": "code",
      "execution_count": 13,
      "metadata": {
        "id": "rmvMPbw8KZKs"
      },
      "outputs": [],
      "source": [
        "import os\n",
        "import cv2 as cv\n",
        "import numpy as np\n",
        "import pandas as pd\n",
        "from sklearn.model_selection import train_test_split\n",
        "\n",
        "# Creates an array with our class names (same as folder names)\n",
        "categories = ['no', 'yes']\n",
        "\n",
        "# Stores the path that the image folders are within\n",
        "data_path = '/content/data'\n",
        "\n",
        "# Creates empty arrays that will eventually hold the transformed images (X) and the labels (y)\n",
        "X = []\n",
        "y = []\n",
        "count = 0\n",
        "# Loops through the categories, keeping track of the category index and name\n",
        "for i, category in enumerate(categories):\n",
        "# Goes through the images in the folders associated with each category\n",
        "# listdir will give all of the files/directories in a given directory; path will give us the path to a directory/file; join will append subequent paths\n",
        "  for file in os.listdir(os.path.join(data_path, category)):\n",
        "    # Stores the image path\n",
        "    image_path = os.path.join(data_path, category, file)\n",
        "    # Loads the image as a numpy array\n",
        "    image = cv.imread(image_path)\n",
        "    # Resizes the image to 256 x 256 since our model will take images of the same size\n",
        "    image = cv.resize(image, (256, 256))\n",
        "    # Flattens images (reduces dimensions) to decrease memory\n",
        "    image = image.flatten()\n",
        "    # Normalizes our data\n",
        "    image = image / 255\n",
        "    # Adds image to the images array\n",
        "    X.append(image)\n",
        "    # Adds label associated with image to the target variable array\n",
        "    y.append(i)\n",
        "\n",
        "# Converts the arrays to numpy arrays for more efficient operations\n",
        "X = np.array(X)\n",
        "y = np.array(y)\n",
        "\n",
        "# Splits our data into training and testing data, with 20% for testing and 80% for training, shuffling will randomly rearrange the images before partitioning\n",
        "X_train, X_test, y_train, y_test = train_test_split(X, y, test_size = 0.2, shuffle = True)"
      ]
    }
  ],
  "metadata": {
    "accelerator": "GPU",
    "colab": {
      "gpuType": "T4",
      "provenance": []
    },
    "kernelspec": {
      "display_name": "Python 3",
      "name": "python3"
    },
    "language_info": {
      "name": "python"
    }
  },
  "nbformat": 4,
  "nbformat_minor": 0
}
